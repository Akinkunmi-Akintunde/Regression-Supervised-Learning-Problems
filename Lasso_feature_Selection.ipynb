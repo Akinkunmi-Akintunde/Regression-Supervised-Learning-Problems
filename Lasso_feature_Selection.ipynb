{
 "cells": [
  {
   "cell_type": "markdown",
   "metadata": {},
   "source": [
    "# Regression Week 5: Feature Selection and LASSO (Interpretation)"
   ]
  },
  {
   "cell_type": "markdown",
   "metadata": {},
   "source": [
    "In this notebook, you will use LASSO to select features, building on a pre-implemented solver for LASSO (using Turi Create, though you can use other solvers). You will:\n",
    "* Run LASSO with different L1 penalties.\n",
    "* Choose best L1 penalty using a validation set.\n",
    "* Choose best L1 penalty using a validation set, with additional constraint on the size of subset.\n",
    "\n",
    "In the second notebook, you will implement your own LASSO solver, using coordinate descent. "
   ]
  },
  {
   "cell_type": "markdown",
   "metadata": {},
   "source": [
    "# Fire up Turi Create"
   ]
  },
  {
   "cell_type": "code",
   "execution_count": 1,
   "metadata": {},
   "outputs": [],
   "source": [
    "import turicreate"
   ]
  },
  {
   "cell_type": "markdown",
   "metadata": {},
   "source": [
    "# Load in house sales data\n",
    "\n",
    "Dataset is from house sales in King County, the region where the city of Seattle, WA is located."
   ]
  },
  {
   "cell_type": "code",
   "execution_count": 2,
   "metadata": {
    "scrolled": true
   },
   "outputs": [],
   "source": [
    "sales = turicreate.SFrame('home_data.sframe/')"
   ]
  },
  {
   "cell_type": "markdown",
   "metadata": {},
   "source": [
    "# Create new features"
   ]
  },
  {
   "cell_type": "markdown",
   "metadata": {},
   "source": [
    "As in Week 2, we consider features that are some transformations of inputs."
   ]
  },
  {
   "cell_type": "code",
   "execution_count": 3,
   "metadata": {},
   "outputs": [
    {
     "data": {
      "text/html": [
       "<pre>Using default 16 lambda workers.</pre>"
      ],
      "text/plain": [
       "Using default 16 lambda workers."
      ]
     },
     "metadata": {},
     "output_type": "display_data"
    },
    {
     "data": {
      "text/html": [
       "<pre>To maximize the degree of parallelism, add the following code to the beginning of the program:</pre>"
      ],
      "text/plain": [
       "To maximize the degree of parallelism, add the following code to the beginning of the program:"
      ]
     },
     "metadata": {},
     "output_type": "display_data"
    },
    {
     "data": {
      "text/html": [
       "<pre>\"turicreate.config.set_runtime_config('TURI_DEFAULT_NUM_PYLAMBDA_WORKERS', 32)\"</pre>"
      ],
      "text/plain": [
       "\"turicreate.config.set_runtime_config('TURI_DEFAULT_NUM_PYLAMBDA_WORKERS', 32)\""
      ]
     },
     "metadata": {},
     "output_type": "display_data"
    },
    {
     "data": {
      "text/html": [
       "<pre>Note that increasing the degree of parallelism also increases the memory footprint.</pre>"
      ],
      "text/plain": [
       "Note that increasing the degree of parallelism also increases the memory footprint."
      ]
     },
     "metadata": {},
     "output_type": "display_data"
    }
   ],
   "source": [
    "# this increases the degree of parallelism and the memory footprint\n",
    "\"turicreate.config.set_runtime_config('TURI_DEFAULT_NUM_PYLAMBDA_WORKERS', 32)\"\n",
    "# doing some data transformation\n",
    "from math import log, sqrt\n",
    "sales['sqft_living_sqrt'] = sales['sqft_living'].apply(sqrt)\n",
    "sales['sqft_lot_sqrt'] = sales['sqft_lot'].apply(sqrt)\n",
    "sales['bedrooms_square'] = sales['bedrooms']*sales['bedrooms']\n",
    "\n",
    "# In the dataset, 'floors' was defined with type string, \n",
    "# so we'll convert them to float, before creating a new feature.\n",
    "sales['floors'] = sales['floors'].astype(float) \n",
    "sales['floors_square'] = sales['floors']*sales['floors']"
   ]
  },
  {
   "cell_type": "markdown",
   "metadata": {},
   "source": [
    "* Squaring bedrooms will increase the separation between not many bedrooms (e.g. 1) and lots of bedrooms (e.g. 4) since 1^2 = 1 but 4^2 = 16. Consequently this variable will mostly affect houses with many bedrooms.\n",
    "* On the other hand, taking square root of sqft_living will decrease the separation between big house and small house. The owner may not be exactly twice as happy for getting a house that is twice as big."
   ]
  },
  {
   "cell_type": "markdown",
   "metadata": {},
   "source": [
    "# Learn regression weights with L1 penalty"
   ]
  },
  {
   "cell_type": "markdown",
   "metadata": {},
   "source": [
    "Let us fit a model with all the features available, plus the features we just created above."
   ]
  },
  {
   "cell_type": "code",
   "execution_count": 4,
   "metadata": {},
   "outputs": [],
   "source": [
    "all_features = ['bedrooms', 'bedrooms_square',\n",
    "                'bathrooms',\n",
    "                'sqft_living', 'sqft_living_sqrt',\n",
    "                'sqft_lot', 'sqft_lot_sqrt',\n",
    "                'floors', 'floors_square',\n",
    "                'waterfront', 'view', 'condition', 'grade',\n",
    "                'sqft_above',\n",
    "                'sqft_basement',\n",
    "                'yr_built', 'yr_renovated']"
   ]
  },
  {
   "cell_type": "markdown",
   "metadata": {},
   "source": [
    "Applying L1 penalty requires adding an extra parameter (`l1_penalty`) to the linear regression call in Turi Create. (Other tools may have separate implementations of LASSO.)  Note that it's important to set `l2_penalty=0` to ensure we don't introduce an additional L2 penalty."
   ]
  },
  {
   "cell_type": "code",
   "execution_count": 5,
   "metadata": {},
   "outputs": [],
   "source": [
    "#fit the model\n",
    "model_all = turicreate.linear_regression.create(sales, target='price', features=all_features,\n",
    "                                                validation_set=None, \n",
    "                                                l2_penalty=0., l1_penalty=1e10, verbose = False)"
   ]
  },
  {
   "cell_type": "markdown",
   "metadata": {},
   "source": [
    "Find what features had non-zero weight."
   ]
  },
  {
   "cell_type": "code",
   "execution_count": 6,
   "metadata": {},
   "outputs": [
    {
     "name": "stdout",
     "output_type": "stream",
     "text": [
      "+------------------+-------+--------------------+--------+\n",
      "|       name       | index |       value        | stderr |\n",
      "+------------------+-------+--------------------+--------+\n",
      "|   (intercept)    |  None | 274873.05595049576 |  None  |\n",
      "|     bedrooms     |  None |        0.0         |  None  |\n",
      "| bedrooms_square  |  None |        0.0         |  None  |\n",
      "|    bathrooms     |  None | 8468.531086910107  |  None  |\n",
      "|   sqft_living    |  None | 24.420720982445495 |  None  |\n",
      "| sqft_living_sqrt |  None | 350.0605533860576  |  None  |\n",
      "|     sqft_lot     |  None |        0.0         |  None  |\n",
      "|  sqft_lot_sqrt   |  None |        0.0         |  None  |\n",
      "|      floors      |  None |        0.0         |  None  |\n",
      "|  floors_square   |  None |        0.0         |  None  |\n",
      "|    waterfront    |  None |        0.0         |  None  |\n",
      "|       view       |  None |        0.0         |  None  |\n",
      "|    condition     |  None |        0.0         |  None  |\n",
      "|      grade       |  None | 842.0680348976041  |  None  |\n",
      "|    sqft_above    |  None | 20.02472241709115  |  None  |\n",
      "|  sqft_basement   |  None |        0.0         |  None  |\n",
      "|     yr_built     |  None |        0.0         |  None  |\n",
      "|   yr_renovated   |  None |        0.0         |  None  |\n",
      "+------------------+-------+--------------------+--------+\n",
      "[18 rows x 4 columns]\n",
      "\n"
     ]
    }
   ],
   "source": [
    "# find the model coefficients\n",
    "coeff = model_all.coefficients\n",
    "coeff.print_rows(num_rows=18)"
   ]
  },
  {
   "cell_type": "markdown",
   "metadata": {},
   "source": [
    "Note that a majority of the weights have been set to zero. So by setting an L1 penalty that's large enough, we are performing a subset selection. \n",
    "\n",
    "***QUIZ QUESTION***:\n",
    "According to this list of weights, which of the features have been chosen? "
   ]
  },
  {
   "cell_type": "code",
   "execution_count": 7,
   "metadata": {},
   "outputs": [
    {
     "name": "stdout",
     "output_type": "stream",
     "text": [
      "+------------------+-------+--------------------+--------+\n",
      "|       name       | index |       value        | stderr |\n",
      "+------------------+-------+--------------------+--------+\n",
      "|   (intercept)    |  None | 274873.05595049576 |  None  |\n",
      "|    bathrooms     |  None | 8468.531086910107  |  None  |\n",
      "|   sqft_living    |  None | 24.420720982445495 |  None  |\n",
      "| sqft_living_sqrt |  None | 350.0605533860576  |  None  |\n",
      "|      grade       |  None | 842.0680348976041  |  None  |\n",
      "|    sqft_above    |  None | 20.02472241709115  |  None  |\n",
      "+------------------+-------+--------------------+--------+\n",
      "[6 rows x 4 columns]\n",
      "\n"
     ]
    }
   ],
   "source": [
    "# answer to the quiz question\n",
    "choosen = coeff[coeff['value'] > 0] # create a subset of the sframe\n",
    "choosen.print_rows(num_rows = 18) # set to 18 to consider all features"
   ]
  },
  {
   "cell_type": "markdown",
   "metadata": {},
   "source": [
    "# Selecting an L1 penalty"
   ]
  },
  {
   "cell_type": "markdown",
   "metadata": {},
   "source": [
    "To find a good L1 penalty, we will explore multiple values using a validation set. Let us do three way split into train, validation, and test sets:\n",
    "* Split our sales data into 2 sets: training and test\n",
    "* Further split our training data into two sets: train, validation\n",
    "\n",
    "Be *very* careful that you use seed = 1 to ensure you get the same answer!"
   ]
  },
  {
   "cell_type": "code",
   "execution_count": 8,
   "metadata": {},
   "outputs": [],
   "source": [
    "(training_and_validation, testing) = sales.random_split(.9,seed=1) # initial train/test split\n",
    "(training, validation) = training_and_validation.random_split(0.5, seed=1) # split training into train and validate"
   ]
  },
  {
   "cell_type": "markdown",
   "metadata": {},
   "source": [
    "Next, we write a loop that does the following:\n",
    "* For `l1_penalty` in [10^1, 10^1.5, 10^2, 10^2.5, ..., 10^7] (to get this in Python, type `np.logspace(1, 7, num=13)`.)\n",
    "    * Fit a regression model with a given `l1_penalty` on TRAIN data. Specify `l1_penalty=l1_penalty` and `l2_penalty=0.` in the parameter list.\n",
    "    * Compute the RSS on VALIDATION data (here you will want to use `.predict()`) for that `l1_penalty`\n",
    "* Report which `l1_penalty` produced the lowest RSS on validation data.\n",
    "\n",
    "When you call `linear_regression.create()` make sure you set `validation_set = None`.\n",
    "\n",
    "Note: you can turn off the print out of `linear_regression.create()` with `verbose = False`"
   ]
  },
  {
   "cell_type": "code",
   "execution_count": 9,
   "metadata": {},
   "outputs": [
    {
     "name": "stdout",
     "output_type": "stream",
     "text": [
      "{10.0: 625766285142460.5,\n",
      " 31.622776601683793: 625766285362393.9,\n",
      " 100.0: 625766286057885.1,\n",
      " 316.22776601683796: 625766288257224.8,\n",
      " 1000.0: 625766295212186.1,\n",
      " 3162.2776601683795: 625766317206080.5,\n",
      " 10000.0: 625766386760658.1,\n",
      " 31622.776601683792: 625766606749278.4,\n",
      " 100000.0: 625767302791635.2,\n",
      " 316227.7660168379: 625769507643885.8,\n",
      " 1000000.0: 625776517727024.2,\n",
      " 3162277.6601683795: 625799062845466.6,\n",
      " 10000000.0: 625883719085425.2}\n",
      "\n",
      "Now, I am done estimating the errors\n"
     ]
    }
   ],
   "source": [
    "import pprint\n",
    "import numpy as np\n",
    "val_err_pred = {} # to store the error for each penalty\n",
    "for penalty in np.logspace(1,7, num=13):\n",
    "    model = turicreate.linear_regression.create(training, features=all_features, target='price', validation_set=None, \n",
    "                                               verbose = None, l1_penalty=penalty, l2_penalty=0)\n",
    "    prediction = model.predict(validation)\n",
    "    residuals = validation['price'] - prediction\n",
    "    RSS_on_val = (residuals**2).sum()\n",
    "    val_err_pred[penalty] = RSS_on_val\n",
    "pprint.pprint(val_err_pred)\n",
    "print(\"\")\n",
    "print(\"Now, I am done estimating the errors\")"
   ]
  },
  {
   "cell_type": "markdown",
   "metadata": {},
   "source": [
    "*** QUIZ QUESTION. *** What was the best value for the `l1_penalty`?"
   ]
  },
  {
   "cell_type": "code",
   "execution_count": 10,
   "metadata": {},
   "outputs": [
    {
     "name": "stdout",
     "output_type": "stream",
     "text": [
      "(10.0, 625766285142460.5)\n"
     ]
    }
   ],
   "source": [
    "# The best value is the one that most minimize rss\n",
    "print(min(val_err_pred.items(), key=lambda x: x[1]))"
   ]
  },
  {
   "cell_type": "markdown",
   "metadata": {},
   "source": [
    "***QUIZ QUESTION***\n",
    "Also, using this value of L1 penalty, how many nonzero weights do you have?"
   ]
  },
  {
   "cell_type": "code",
   "execution_count": 11,
   "metadata": {},
   "outputs": [],
   "source": [
    "#fit the model\n",
    "best_penalty = turicreate.linear_regression.create(training, target='price', features=all_features,\n",
    "                                                validation_set=None, \n",
    "                                                l2_penalty=0., l1_penalty=10.0, verbose = False)"
   ]
  },
  {
   "cell_type": "code",
   "execution_count": 12,
   "metadata": {},
   "outputs": [
    {
     "name": "stdout",
     "output_type": "stream",
     "text": [
      "+------------------+-------+-----------------------+--------+\n",
      "|       name       | index |         value         | stderr |\n",
      "+------------------+-------+-----------------------+--------+\n",
      "|   (intercept)    |  None |    18993.4272127706   |  None  |\n",
      "|     bedrooms     |  None |   7936.967679031298   |  None  |\n",
      "| bedrooms_square  |  None |    936.993368193299   |  None  |\n",
      "|    bathrooms     |  None |   25409.588934120657  |  None  |\n",
      "|   sqft_living    |  None |   39.11513637970765   |  None  |\n",
      "| sqft_living_sqrt |  None |   1124.6502128077168  |  None  |\n",
      "|     sqft_lot     |  None | 0.0034836182229897304 |  None  |\n",
      "|  sqft_lot_sqrt   |  None |   148.2583910114082   |  None  |\n",
      "|      floors      |  None |   21204.335466950117  |  None  |\n",
      "|  floors_square   |  None |   12915.524336072429  |  None  |\n",
      "|    waterfront    |  None |   601905.5945452718   |  None  |\n",
      "|       view       |  None |   93312.85731187186   |  None  |\n",
      "|    condition     |  None |   6609.035712447213   |  None  |\n",
      "|      grade       |  None |   6206.9399918805575  |  None  |\n",
      "|    sqft_above    |  None |   43.28705341933562   |  None  |\n",
      "|  sqft_basement   |  None |   122.36782753411939  |  None  |\n",
      "|     yr_built     |  None |   9.433635393724902   |  None  |\n",
      "|   yr_renovated   |  None |   56.072003448822365  |  None  |\n",
      "+------------------+-------+-----------------------+--------+\n",
      "[18 rows x 4 columns]\n",
      "\n"
     ]
    }
   ],
   "source": [
    "coeff = best_penalty.coefficients\n",
    "#coeff.print_rows(num_rows=20)\n",
    "non_zero_weights = coeff[coeff['value'] > 0]\n",
    "non_zero_weights.print_rows(num_rows=20)"
   ]
  },
  {
   "cell_type": "markdown",
   "metadata": {},
   "source": [
    "# Limit the number of nonzero weights\n",
    "\n",
    "What if we absolutely wanted to limit ourselves to, say, 7 features? This may be important if we want to derive \"a rule of thumb\" --- an interpretable model that has only a few features in them."
   ]
  },
  {
   "cell_type": "markdown",
   "metadata": {},
   "source": [
    "In this section, you are going to implement a simple, two phase procedure to achive this goal:\n",
    "1. Explore a large range of `l1_penalty` values to find a narrow region of `l1_penalty` values where models are likely to have the desired number of non-zero weights.\n",
    "2. Further explore the narrow region you found to find a good value for `l1_penalty` that achieves the desired sparsity.  Here, we will again use a validation set to choose the best value for `l1_penalty`."
   ]
  },
  {
   "cell_type": "code",
   "execution_count": 13,
   "metadata": {},
   "outputs": [],
   "source": [
    "max_nonzeros = 7"
   ]
  },
  {
   "cell_type": "markdown",
   "metadata": {},
   "source": [
    "## Exploring the larger range of values to find a narrow range with the desired sparsity\n",
    "\n",
    "Let's define a wide range of possible `l1_penalty_values`:"
   ]
  },
  {
   "cell_type": "code",
   "execution_count": 14,
   "metadata": {},
   "outputs": [],
   "source": [
    "l1_penalty_values = np.logspace(8, 10, num=20)"
   ]
  },
  {
   "cell_type": "markdown",
   "metadata": {},
   "source": [
    "Now, implement a loop that search through this space of possible `l1_penalty` values:\n",
    "\n",
    "* For `l1_penalty` in `np.logspace(8, 10, num=20)`:\n",
    "    * Fit a regression model with a given `l1_penalty` on TRAIN data. Specify `l1_penalty=l1_penalty` and `l2_penalty=0.` in the parameter list. When you call `linear_regression.create()` make sure you set `validation_set = None`\n",
    "    * Extract the weights of the model and count the number of nonzeros. Save the number of nonzeros to a list.\n",
    "        * *Hint: `model.coefficients['value']` gives you an SArray with the parameters you learned.  If you call the method `.nnz()` on it, you will find the number of non-zero parameters!* "
   ]
  },
  {
   "cell_type": "code",
   "execution_count": 15,
   "metadata": {},
   "outputs": [
    {
     "name": "stdout",
     "output_type": "stream",
     "text": [
      "{100000000.0: 18,\n",
      " 127427498.57031322: 18,\n",
      " 162377673.91887242: 18,\n",
      " 206913808.111479: 18,\n",
      " 263665089.87303555: 17,\n",
      " 335981828.6283788: 17,\n",
      " 428133239.8719396: 17,\n",
      " 545559478.1168514: 17,\n",
      " 695192796.1775591: 17,\n",
      " 885866790.4100832: 16,\n",
      " 1128837891.6846883: 15,\n",
      " 1438449888.2876658: 15,\n",
      " 1832980710.8324375: 13,\n",
      " 2335721469.0901213: 12,\n",
      " 2976351441.6313133: 10,\n",
      " 3792690190.7322536: 6,\n",
      " 4832930238.571753: 5,\n",
      " 6158482110.6602545: 3,\n",
      " 7847599703.514623: 1,\n",
      " 10000000000.0: 1}\n"
     ]
    }
   ],
   "source": [
    "non_zero_weight = {}\n",
    "for l1_penalty in np.logspace(8, 10, num=20):\n",
    "    model = turicreate.linear_regression.create(training, features = all_features, target = 'price', l1_penalty=l1_penalty,\n",
    "                                               l2_penalty=0., validation_set=None, verbose=False)\n",
    "    non_zero_weight[l1_penalty] = model.coefficients['value'].nnz()\n",
    "pprint.pprint(non_zero_weight)"
   ]
  },
  {
   "cell_type": "markdown",
   "metadata": {},
   "source": [
    "Out of this large range, we want to find the two ends of our desired narrow range of `l1_penalty`.  At one end, we will have `l1_penalty` values that have too few non-zeros, and at the other end, we will have an `l1_penalty` that has too many non-zeros.  \n",
    "\n",
    "More formally, find:\n",
    "* The largest `l1_penalty` that has more non-zeros than `max_nonzeros` (if we pick a penalty smaller than this value, we will definitely have too many non-zero weights)\n",
    "    * Store this value in the variable `l1_penalty_min` (we will use it later)\n",
    "* The smallest `l1_penalty` that has fewer non-zeros than `max_nonzeros` (if we pick a penalty larger than this value, we will definitely have too few non-zero weights)\n",
    "    * Store this value in the variable `l1_penalty_max` (we will use it later)\n",
    "\n",
    "\n",
    "*Hint: there are many ways to do this, e.g.:*\n",
    "* Programmatically within the loop above\n",
    "* Creating a list with the number of non-zeros for each value of `l1_penalty` and inspecting it to find the appropriate boundaries."
   ]
  },
  {
   "cell_type": "code",
   "execution_count": 16,
   "metadata": {},
   "outputs": [],
   "source": [
    "l1_penalty_min = 2976351441.6313133\n",
    "l1_penalty_max = 3792690190.7322536"
   ]
  },
  {
   "cell_type": "markdown",
   "metadata": {},
   "source": [
    "***QUIZ QUESTION.*** What values did you find for `l1_penalty_min` and `l1_penalty_max`, respectively? "
   ]
  },
  {
   "cell_type": "markdown",
   "metadata": {},
   "source": [
    "## Exploring the narrow range of values to find the solution with the right number of non-zeros that has lowest RSS on the validation set \n",
    "\n",
    "We will now explore the narrow region of `l1_penalty` values we found:"
   ]
  },
  {
   "cell_type": "code",
   "execution_count": 17,
   "metadata": {},
   "outputs": [],
   "source": [
    "l1_penalty_values = np.linspace(l1_penalty_min,l1_penalty_max,20)"
   ]
  },
  {
   "cell_type": "markdown",
   "metadata": {},
   "source": [
    "* For `l1_penalty` in `np.linspace(l1_penalty_min,l1_penalty_max,20)`:\n",
    "    * Fit a regression model with a given `l1_penalty` on TRAIN data. Specify `l1_penalty=l1_penalty` and `l2_penalty=0.` in the parameter list. When you call `linear_regression.create()` make sure you set `validation_set = None`\n",
    "    * Measure the RSS of the learned model on the VALIDATION set\n",
    "\n",
    "Find the model that the lowest RSS on the VALIDATION set and has sparsity *equal* to `max_nonzeros`."
   ]
  },
  {
   "cell_type": "code",
   "execution_count": 18,
   "metadata": {},
   "outputs": [
    {
     "name": "stdout",
     "output_type": "stream",
     "text": [
      "{2976351441.6313133: (966925692362084.9, 10),\n",
      " 3019316638.9524155: (974019450084554.5, 10),\n",
      " 3062281836.2735176: (981188367942453.5, 10),\n",
      " 3105247033.5946198: (989328342459473.2, 10),\n",
      " 3148212230.915722: (998783211265889.4, 10),\n",
      " 3191177428.236824: (1008477167020093.5, 10),\n",
      " 3234142625.557926: (1018298780553819.6, 10),\n",
      " 3277107822.8790283: (1028247992205977.0, 10),\n",
      " 3320073020.2001305: (1034616909232827.2, 8),\n",
      " 3363038217.5212326: (1038554735941040.1, 8),\n",
      " 3406003414.8423347: (1043237237871701.8, 8),\n",
      " 3448968612.163437: (1046937488751710.9, 7),\n",
      " 3491933809.484539: (1051147625612862.5, 7),\n",
      " 3534899006.805641: (1055992735342999.4, 7),\n",
      " 3577864204.126743: (1060799531763287.4, 7),\n",
      " 3620829401.447845: (1065707689498229.2, 6),\n",
      " 3663794598.768947: (1069464335425585.1, 6),\n",
      " 3706759796.0900493: (1073504549585599.2, 6),\n",
      " 3749724993.4111514: (1077632775581415.1, 6),\n",
      " 3792690190.7322536: (1081867592324112.1, 6)}\n",
      "\n",
      "Now, I am done estimating the errors\n"
     ]
    }
   ],
   "source": [
    "val_err_pred2 = {} # store the value inside the dictionary\n",
    "# search the space of possible penalties\n",
    "for l1_penalty in np.linspace(l1_penalty_min, l1_penalty_max, 20):\n",
    "    #fit the model\n",
    "    model = turicreate.linear_regression.create(training, features = all_features, target ='price', validation_set=None,\n",
    "                                               verbose = False, l1_penalty=l1_penalty, l2_penalty=0.)\n",
    "    # Make prediction on validation set\n",
    "    prediction = model.predict(validation)\n",
    "    # calculate the residuals\n",
    "    residuals = validation['price'] - prediction\n",
    "    RSS_on_val = (residuals**2).sum()\n",
    "    # here, we store two values in our dictionary as evident in the printed format\n",
    "    val_err_pred2[l1_penalty] = RSS_on_val, model.coefficients['value'].nnz() \n",
    "pprint.pprint(val_err_pred2)\n",
    "print(\"\")\n",
    "print(\"Now, I am done estimating the errors\")"
   ]
  },
  {
   "cell_type": "code",
   "execution_count": 19,
   "metadata": {},
   "outputs": [
    {
     "name": "stdout",
     "output_type": "stream",
     "text": [
      "{3448968612.163437: 1046937488751710.9,\n",
      " 3491933809.484539: 1051147625612862.5,\n",
      " 3534899006.805641: 1055992735342999.4,\n",
      " 3577864204.126743: 1060799531763287.4}\n",
      "\n",
      "This has the lowest RSS and with max_nonzeros equal to 7\n",
      "(3448968612.163437, 1046937488751710.9)\n"
     ]
    }
   ],
   "source": [
    "lowest = {} # store the data in the dictionary\n",
    "# k represents the key and 'v' represents the value\n",
    "for k, v in val_err_pred2.items():\n",
    "    # v[1] is the second index of values\n",
    "    if v[1] == max_nonzeros: # i.e if it is equal to 7\n",
    "        lowest[k] = v[0] # get the penalty(i.e the keys) and the RSS (i.e the values)\n",
    "pprint.pprint(lowest)\n",
    "#find the lowest RSS\n",
    "print(\"\")\n",
    "print(\"This has the lowest RSS and with max_nonzeros equal to 7\")\n",
    "print(min(lowest.items(), key = lambda x: x[1]))"
   ]
  },
  {
   "cell_type": "markdown",
   "metadata": {},
   "source": [
    "***QUIZ QUESTIONS***\n",
    "1. What value of `l1_penalty` in our narrow range has the lowest RSS on the VALIDATION set and has sparsity *equal* to `max_nonzeros`?\n",
    "2. What features in this model have non-zero coefficients?"
   ]
  },
  {
   "cell_type": "code",
   "execution_count": 20,
   "metadata": {},
   "outputs": [],
   "source": [
    "last_penalty = 3448968612.163437\n",
    "last_model = turicreate.linear_regression.create(training, features = all_features, target='price', validation_set=None,\n",
    "                                                l1_penalty=last_penalty, l2_penalty=0., verbose=False)\n",
    "last_coef = last_model.coefficients"
   ]
  },
  {
   "cell_type": "code",
   "execution_count": 21,
   "metadata": {},
   "outputs": [
    {
     "name": "stdout",
     "output_type": "stream",
     "text": [
      "+------------------+-------+--------------------+--------+\n",
      "|       name       | index |       value        | stderr |\n",
      "+------------------+-------+--------------------+--------+\n",
      "|   (intercept)    |  None | 222253.1925443279  |  None  |\n",
      "|     bedrooms     |  None | 661.7227177822257  |  None  |\n",
      "|    bathrooms     |  None | 15873.957259267983 |  None  |\n",
      "|   sqft_living    |  None | 32.410221451259716 |  None  |\n",
      "| sqft_living_sqrt |  None | 690.1147733133171  |  None  |\n",
      "|      grade       |  None | 2899.4202697498836 |  None  |\n",
      "|    sqft_above    |  None | 30.011575302201155 |  None  |\n",
      "+------------------+-------+--------------------+--------+\n",
      "[7 rows x 4 columns]\n",
      "\n"
     ]
    }
   ],
   "source": [
    "lastlast = last_coef[last_coef['value'] > 0]\n",
    "lastlast.print_rows(num_rows=20)"
   ]
  },
  {
   "cell_type": "code",
   "execution_count": null,
   "metadata": {},
   "outputs": [],
   "source": []
  }
 ],
 "metadata": {
  "kernelspec": {
   "display_name": "Python 3",
   "language": "python",
   "name": "python3"
  },
  "language_info": {
   "codemirror_mode": {
    "name": "ipython",
    "version": 3
   },
   "file_extension": ".py",
   "mimetype": "text/x-python",
   "name": "python",
   "nbconvert_exporter": "python",
   "pygments_lexer": "ipython3",
   "version": "3.7.6"
  }
 },
 "nbformat": 4,
 "nbformat_minor": 1
}
